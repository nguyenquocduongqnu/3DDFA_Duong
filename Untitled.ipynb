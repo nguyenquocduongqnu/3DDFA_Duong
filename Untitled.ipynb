{
 "cells": [
  {
   "cell_type": "code",
   "execution_count": 3,
   "metadata": {},
   "outputs": [],
   "source": [
    "import pickle\n",
    "import h5py\n",
    "import numpy as np"
   ]
  },
  {
   "cell_type": "code",
   "execution_count": 5,
   "metadata": {},
   "outputs": [],
   "source": [
    "bfm = pickle.load(open('configs/bfm_noneck_v3.pkl','rb'))"
   ]
  },
  {
   "cell_type": "code",
   "execution_count": null,
   "metadata": {},
   "outputs": [],
   "source": [
    "flame = h5py.File('')"
   ]
  },
  {
   "cell_type": "code",
   "execution_count": 9,
   "metadata": {},
   "outputs": [],
   "source": [
    "def load_bfm(fname):\n",
    "    '''\n",
    "    Loads BFM 2017 in h5 file format and returns a chumpy object and all model parameters\n",
    "    '''\n",
    "\n",
    "    with h5py.File(fname, 'r') as f:\n",
    "        shape_mean = f['shape']['model']['mean'][:]\n",
    "        shape_pcaBasis = f['shape']['model']['pcaBasis'][:]\n",
    "        shape_pcaVariance = f['shape']['model']['pcaVariance'][:]\n",
    "\n",
    "        expression_mean = f['expression']['model']['mean'][:]\n",
    "        expression_pcaBasis = f['expression']['model']['pcaBasis'][:]\n",
    "        expression_pcaVariance = f['expression']['model']['pcaVariance'][:]\n",
    "\n",
    "        color_mean = f['color']['model']['mean'][:]\n",
    "        color_pcaBasis = f['color']['model']['pcaBasis'][:]\n",
    "        color_pcaVariance = f['color']['model']['pcaVariance'][:]\n",
    "\n",
    "        shape_coeffs = ch.zeros(shape_pcaBasis.shape[1])\n",
    "        exp_coeffs = ch.zeros(expression_pcaBasis.shape[1])\n",
    "        color_coeffs = ch.zeros(color_pcaBasis.shape[1])\n",
    "\n",
    "        sc = ch.diag(np.sqrt(shape_pcaVariance)).dot(shape_coeffs)\n",
    "        ec = ch.diag(np.sqrt(expression_pcaVariance)).dot(exp_coeffs)\n",
    "        cc = ch.diag(np.sqrt(color_pcaVariance)).dot(color_coeffs)\n",
    "        v_bfm = ch.array(shape_mean).reshape(-1,3) + ch.array(shape_pcaBasis).dot(sc).reshape(-1,3) + \\\n",
    "                ch.array(expression_mean).reshape(-1, 3) + ch.array(expression_pcaBasis).dot(ec).reshape(-1, 3)\n",
    "        c_bfm = ch.array(color_mean).reshape(-1, 3)  + ch.array(color_pcaBasis).dot(cc).reshape(-1, 3)\n",
    "        return {'verts': v_bfm, 'color': c_bfm, 'shape_coeffs': shape_coeffs, 'exp_coeffs': exp_coeffs, 'color_coeffs': color_coeffs}"
   ]
  },
  {
   "cell_type": "code",
   "execution_count": 23,
   "metadata": {},
   "outputs": [],
   "source": [
    "obj = pickle.load(open('configs/bfm_noneck_v3.pkl', 'rb'))\n",
    "\n",
    "fullhead =  load_bfm('D:/Downloads/model2019_fullHead.h5')\n",
    "\n",
    "ori_fullhead = h5py.File('D:/Downloads/model2019_fullHead.h5','r')\n",
    "    # List all groups"
   ]
  },
  {
   "cell_type": "code",
   "execution_count": 43,
   "metadata": {},
   "outputs": [
    {
     "data": {
      "text/plain": [
       "dict_keys(['u', 'w_shp', 'w_exp', 'tri', 'keypoints'])"
      ]
     },
     "execution_count": 43,
     "metadata": {},
     "output_type": "execute_result"
    }
   ],
   "source": [
    "obj.keys()"
   ]
  },
  {
   "cell_type": "code",
   "execution_count": 37,
   "metadata": {},
   "outputs": [
    {
     "data": {
      "text/plain": [
       "['catalog', 'color', 'expression', 'metadata', 'shape', 'version']"
      ]
     },
     "execution_count": 37,
     "metadata": {},
     "output_type": "execute_result"
    }
   ],
   "source": [
    "list(ori_fullhead.keys())"
   ]
  },
  {
   "cell_type": "code",
   "execution_count": 70,
   "metadata": {},
   "outputs": [
    {
     "data": {
      "text/plain": [
       "[3, 58203]"
      ]
     },
     "execution_count": 70,
     "metadata": {},
     "output_type": "execute_result"
    }
   ],
   "source": [
    "list(fullhead['expression']['representer']['points'].shape)"
   ]
  },
  {
   "cell_type": "code",
   "execution_count": 72,
   "metadata": {},
   "outputs": [
    {
     "name": "stdout",
     "output_type": "stream",
     "text": [
      "^C\n"
     ]
    }
   ],
   "source": [
    "!conda install -c anaconda pandas"
   ]
  },
  {
   "cell_type": "code",
   "execution_count": null,
   "metadata": {},
   "outputs": [],
   "source": []
  }
 ],
 "metadata": {
  "kernelspec": {
   "display_name": "Python 3",
   "language": "python",
   "name": "python3"
  },
  "language_info": {
   "codemirror_mode": {
    "name": "ipython",
    "version": 3
   },
   "file_extension": ".py",
   "mimetype": "text/x-python",
   "name": "python",
   "nbconvert_exporter": "python",
   "pygments_lexer": "ipython3",
   "version": "3.6.13"
  }
 },
 "nbformat": 4,
 "nbformat_minor": 4
}
