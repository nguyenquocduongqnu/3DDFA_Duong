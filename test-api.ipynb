{
 "cells": [
  {
   "cell_type": "code",
   "execution_count": 13,
   "metadata": {},
   "outputs": [],
   "source": [
    "import logging\n",
    "import json\n",
    "from types import SimpleNamespace\n",
    "import yaml\n",
    "from utils.app_api import *\n",
    "import pickle"
   ]
  },
  {
   "cell_type": "code",
   "execution_count": 14,
   "metadata": {},
   "outputs": [],
   "source": [
    "file = open('D:/2Dto3D/3DDFA_V2/examples/results/images_obj.obj','rb')"
   ]
  },
  {
   "cell_type": "code",
   "execution_count": 15,
   "metadata": {},
   "outputs": [
    {
     "data": {
      "text/plain": [
       "<_io.BufferedReader name='D:/2Dto3D/3DDFA_V2/examples/results/images_obj.obj'>"
      ]
     },
     "execution_count": 15,
     "metadata": {},
     "output_type": "execute_result"
    }
   ],
   "source": [
    "file"
   ]
  },
  {
   "cell_type": "code",
   "execution_count": 4,
   "metadata": {},
   "outputs": [],
   "source": [
    "def main(args):\n",
    "    cfg = yaml.load(open(args.model_config), Loader=yaml.SafeLoader)\n",
    "    params = {\n",
    "        \"token\" : args.api.token,\n",
    "        \"last_id\" : args.api.last_id\n",
    "    }\n",
    "    data = get_data(args.api.url, params)\n",
    "    while data is None:\n",
    "        for s in range(5):\n",
    "            print(f\"Connection refused...Try again in {s}\", flush=True, end=\"\\r\")\n",
    "            time.sleep(1)\n",
    "            s -= 1\n",
    "        data = get_data(args.api.url, params)\n",
    "    if len(data) == 0:\n",
    "        print('Waiting for input...', flush=True, end=\"\\r\")\n",
    "        time.sleep(2)\n",
    "        return\n",
    "\n",
    "    # Given a still image path and load to BGR channel\n",
    "    print(data)\n",
    "    for image in data:\n",
    "        img = url2img(image['image'])\n",
    "        cv2.imshow('image',img)\n",
    "        cv2.waitKey(0)\n",
    "        cv2.destroyAllWindows()\n",
    "        break\n",
    "    return"
   ]
  },
  {
   "cell_type": "code",
   "execution_count": 5,
   "metadata": {},
   "outputs": [
    {
     "name": "stdout",
     "output_type": "stream",
     "text": [
      "[{'id': 49, 'image': 'https://ht3dprint.com/storage/app/uploads/public/607/d71/7f1/607d717f1faba726383871.jpg'}, {'id': 51, 'image': 'https://ht3dprint.com/storage/app/uploads/public/607/d72/cca/607d72cca9525397737500.jpg'}, {'id': 53, 'image': 'https://ht3dprint.com/storage/app/uploads/public/607/d74/f63/607d74f63d9a0662291943.jpg'}, {'id': 55, 'image': 'https://ht3dprint.com/storage/app/uploads/public/607/d8b/733/607d8b733974c302101565.jpg'}, {'id': 57, 'image': 'https://ht3dprint.com/storage/app/uploads/public/607/d8b/f04/607d8bf04461f595660790.jpg'}, {'id': 61, 'image': 'https://ht3dprint.com/storage/app/uploads/public/607/d91/bc7/607d91bc70254745652683.jpg'}, {'id': 63, 'image': 'https://ht3dprint.com/storage/app/uploads/public/607/db4/f45/607db4f4531df705685747.jpg'}, {'id': 71, 'image': 'https://ht3dprint.com/storage/app/uploads/public/607/dce/10a/607dce10ae735717364784.jpg'}, {'id': 73, 'image': 'https://ht3dprint.com/storage/app/uploads/public/607/dcf/9f0/607dcf9f0b5d4929049043.jpg'}, {'id': 75, 'image': 'https://ht3dprint.com/storage/app/uploads/public/607/dd0/652/607dd06522888289648801.jpg'}, {'id': 77, 'image': 'https://ht3dprint.com/storage/app/uploads/public/607/dd1/4fd/607dd14fdc8dc745545987.jpg'}, {'id': 100, 'image': 'https://ht3dprint.com/storage/app/uploads/public/608/1a9/d48/6081a9d48aa60092828102.jpg'}, {'id': 101, 'image': 'https://ht3dprint.com/storage/app/uploads/public/608/1aa/a1e/6081aaa1e1c84999133472.jpg'}, {'id': 102, 'image': 'https://ht3dprint.com/storage/app/uploads/public/608/61f/613/60861f613e523256567548.jpg'}, {'id': 103, 'image': 'https://ht3dprint.com/storage/app/uploads/public/608/61f/ab2/60861fab2843c321580836.jpg'}, {'id': 106, 'image': 'https://ht3dprint.com/storage/app/uploads/public/608/6bd/3c7/6086bd3c71f66070394096.jpg'}, {'id': 107, 'image': 'https://ht3dprint.com/storage/app/uploads/public/608/78c/4c3/60878c4c341cc275495569.jpg'}, {'id': 108, 'image': 'https://ht3dprint.com/storage/app/uploads/public/608/91c/4cb/60891c4cb8049996599666.jpg'}, {'id': 110, 'image': 'https://ht3dprint.com/storage/app/uploads/public/60a/0ad/646/60a0ad646fc6c936493531.jpg'}, {'id': 120, 'image': 'https://ht3dprint.com/storage/app/uploads/public/60a/455/1d1/60a4551d1f73e317833016.jpg'}, {'id': 121, 'image': 'https://ht3dprint.com/storage/app/uploads/public/60a/608/d68/60a608d682220283142178.jpg'}, {'id': 122, 'image': 'https://ht3dprint.com/storage/app/uploads/public/60a/610/b7c/60a610b7c5a0b250802695.jpg'}]\n"
     ]
    }
   ],
   "source": [
    "while True:\n",
    "    args = json.load(open(\"config.json\", \"r\"), object_hook=lambda d: SimpleNamespace(**d))\n",
    "    try:\n",
    "        main(args)\n",
    "    except Exception as ex:\n",
    "        logging.error('FAILED', exc_info=True)\n",
    "    break"
   ]
  },
  {
   "cell_type": "code",
   "execution_count": null,
   "metadata": {},
   "outputs": [],
   "source": []
  }
 ],
 "metadata": {
  "kernelspec": {
   "display_name": "Python 3",
   "language": "python",
   "name": "python3"
  },
  "language_info": {
   "codemirror_mode": {
    "name": "ipython",
    "version": 3
   },
   "file_extension": ".py",
   "mimetype": "text/x-python",
   "name": "python",
   "nbconvert_exporter": "python",
   "pygments_lexer": "ipython3",
   "version": "3.7.10"
  }
 },
 "nbformat": 4,
 "nbformat_minor": 4
}
